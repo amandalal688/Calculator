{
 "cells": [
  {
   "cell_type": "code",
   "execution_count": 7,
   "id": "174d8527",
   "metadata": {},
   "outputs": [],
   "source": [
    "#function to perform addition\n",
    "def addition(num1 , num2):\n",
    "    return num1+num2\n",
    "\n",
    "#function to perform subtraction\n",
    "def subtraction(num1 , num2):\n",
    "    return num1-num2\n",
    "\n",
    "#function to perform multiplication\n",
    "def multiply(num1 , num2):\n",
    "    return num1*num2\n",
    "\n",
    "#function to perform division\n",
    "def division(num1 , num2):\n",
    "    return num1/num2"
   ]
  },
  {
   "cell_type": "code",
   "execution_count": 12,
   "id": "a7c18544",
   "metadata": {},
   "outputs": [
    {
     "name": "stdout",
     "output_type": "stream",
     "text": [
      "Enter the 1st Number: 6\n",
      "Enter the 2nd Number: 6\n",
      "Choose an Operation: \n",
      "1. Addition\n",
      "2. Substraction\n",
      "3. Multiplication\n",
      "4. Division\n",
      "Enter Your Choice(1-4): 45\n",
      "Invalid Input! \n",
      "\n",
      "6.0 / 6.0 = 3.0\n"
     ]
    }
   ],
   "source": [
    "#taking input \n",
    "num1 = float(input(\"Enter the 1st Number: \"))\n",
    "num2 = float(input(\"Enter the 2nd Number: \"))\n",
    "\n",
    "#Choosing an operation\n",
    "print(\"Choose an Operation: \")\n",
    "print(\"1. Addition\")\n",
    "print(\"2. Substraction\")\n",
    "print(\"3. Multiplication\")\n",
    "print(\"4. Division\")\n",
    "\n",
    "operation = int(input(\"Enter Your Choice(1-4): \"))\n",
    "\n",
    "# perform the calculation based on the choosen operation\n",
    "if operation == 1:\n",
    "    result = addition(num1 , num2)\n",
    "    operator = \"+\"\n",
    "elif operation == 2:\n",
    "    result = subtraction(num1 , num2)\n",
    "    operator = \"-\"\n",
    "elif operation == 3:\n",
    "    result = multiply(num1 , num2)\n",
    "    operator = \"*\"\n",
    "elif operation == 4:\n",
    "    result = division(num1 , num2)\n",
    "    operator = \"/\"\n",
    "else:\n",
    "    print(\"Invalid Input! \")\n",
    "    \n",
    "#Display the result\n",
    "print(f\"\\n{num1} {operator} {num2} = {result}\")"
   ]
  },
  {
   "cell_type": "code",
   "execution_count": null,
   "id": "a8e47468",
   "metadata": {},
   "outputs": [],
   "source": []
  }
 ],
 "metadata": {
  "kernelspec": {
   "display_name": "Python 3 (ipykernel)",
   "language": "python",
   "name": "python3"
  },
  "language_info": {
   "codemirror_mode": {
    "name": "ipython",
    "version": 3
   },
   "file_extension": ".py",
   "mimetype": "text/x-python",
   "name": "python",
   "nbconvert_exporter": "python",
   "pygments_lexer": "ipython3",
   "version": "3.10.9"
  }
 },
 "nbformat": 4,
 "nbformat_minor": 5
}
